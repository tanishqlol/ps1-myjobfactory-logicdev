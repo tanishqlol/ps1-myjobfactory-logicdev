{
 "cells": [
  {
   "cell_type": "markdown",
   "id": "71664428",
   "metadata": {},
   "source": [
    "#### Prototype implementation \n",
    "\n",
    "A prototype for matching the candidates skills and work style explained in a paragraph to a job description and ranks multiple jobs based on the cosine similarity"
   ]
  },
  {
   "cell_type": "markdown",
   "id": "d379656c",
   "metadata": {},
   "source": [
    "Implementing cosine similarity using dummy text instead of actual parsed data"
   ]
  },
  {
   "cell_type": "code",
   "execution_count": null,
   "id": "8f508e49",
   "metadata": {},
   "outputs": [],
   "source": [
    "# dummy text for testing\n",
    "\n",
    "candidate_text = \"\"\"\n",
    "Experienced Python developer with strong background in backend systems and cloud deployment.\n",
    "Prefers remote async work. Enjoys working on open-source projects and solving real-world problems.\n",
    "\"\"\"\n",
    "\n",
    "job_text = \"\"\"\n",
    "Looking for a Python backend engineer familiar with cloud technologies (AWS, Docker).\n",
    "Experience with async programming and working in a distributed team is a plus.\n",
    "\"\"\""
   ]
  },
  {
   "cell_type": "markdown",
   "id": "59087bc9",
   "metadata": {},
   "source": [
    "Using a pretrained embedding model to convert text into vectors"
   ]
  },
  {
   "cell_type": "code",
   "execution_count": null,
   "id": "bdfb65a7",
   "metadata": {},
   "outputs": [],
   "source": [
    "from sentence_transformers import SentenceTransformer \n",
    "\n",
    "# Load lightweight pretrained model\n",
    "model = SentenceTransformer('all-MiniLM-L6-v2')  # Fast and good enough\n",
    "\n",
    "# Generate embeddings\n",
    "candidate_vector = model.encode(candidate_text)\n",
    "job_vector = model.encode(job_text)"
   ]
  },
  {
   "cell_type": "markdown",
   "id": "9f110ce0",
   "metadata": {},
   "source": [
    "#### Computing Cosine Similarity using the numpy library\n",
    "This step is exactly the same as finding the dot product between two vectors, the larger the normalized dot product (cosine of the angle between the two vectors) the better the overlap. This is the main algorithm used to do the matchmaking."
   ]
  },
  {
   "cell_type": "code",
   "execution_count": 7,
   "id": "e44a85a6",
   "metadata": {},
   "outputs": [
    {
     "name": "stdout",
     "output_type": "stream",
     "text": [
      "Similarity Score: 0.8371\n"
     ]
    }
   ],
   "source": [
    "from numpy import dot\n",
    "from numpy.linalg import norm\n",
    "\n",
    "def cosine_similarity(vec1, vec2):\n",
    "    return dot(vec1, vec2) / (norm(vec1) * norm(vec2))\n",
    "\n",
    "similarity_score = cosine_similarity(candidate_vector, job_vector)\n",
    "print(f\"Similarity Score: {similarity_score:.4f}\")\n"
   ]
  },
  {
   "cell_type": "markdown",
   "id": "a23483e2",
   "metadata": {},
   "source": [
    "We see a compatibility score which translates to 83.71% match. Which is something similar to what we should expect from the given dummy text."
   ]
  },
  {
   "cell_type": "markdown",
   "id": "8f36c207",
   "metadata": {},
   "source": [
    "#### Ranking  multiple jobs\n",
    "\n",
    "The next section of code is used to rank multiple jobs based on the cosine similarity score attained.\n",
    "It takes in ```canditate_text``` and matches the with multiple job descriptions given in ```job_texts``` array."
   ]
  },
  {
   "cell_type": "code",
   "execution_count": 19,
   "id": "ba4df883",
   "metadata": {},
   "outputs": [
    {
     "name": "stdout",
     "output_type": "stream",
     "text": [
      "Job No. 1 with cosine similarity 0.8230. i.e., Match of 82.30% \n",
      " Job description: Python backend developer with experience in cloud systems. \n",
      "\n",
      "Job No. 0 with cosine similarity 0.4192. i.e., Match of 41.92% \n",
      " Job description: Looking for frontend engineer with React and CSS skills. \n",
      "\n",
      "Job No. 2 with cosine similarity 0.2711. i.e., Match of 27.11% \n",
      " Job description: Data analyst with SQL and Excel knowledge. \n",
      "\n"
     ]
    }
   ],
   "source": [
    "job_texts = [\n",
    "    \"Looking for frontend engineer with React and CSS skills.\",\n",
    "    \"Python backend developer with experience in cloud systems.\",\n",
    "    \"Data analyst with SQL and Excel knowledge.\"\n",
    "]\n",
    "\n",
    "job_vectors = model.encode(job_texts)\n",
    "\n",
    "# Rank jobs by similarity\n",
    "scores = [(i, cosine_similarity(candidate_vector, job_vec)) for i, job_vec in enumerate(job_vectors)]\n",
    "ranked = sorted(scores, key=lambda x: x[1], reverse=True)\n",
    "\n",
    "# Print top matches\n",
    "for idx, score in ranked:\n",
    "    print(f\"Job No. {idx} with cosine similarity {score:.4f}. i.e., Match of {score * 100:.2f}% \\n Job description: {job_texts[idx]} \\n\")"
   ]
  }
 ],
 "metadata": {
  "kernelspec": {
   "display_name": "Python 3",
   "language": "python",
   "name": "python3"
  },
  "language_info": {
   "codemirror_mode": {
    "name": "ipython",
    "version": 3
   },
   "file_extension": ".py",
   "mimetype": "text/x-python",
   "name": "python",
   "nbconvert_exporter": "python",
   "pygments_lexer": "ipython3",
   "version": "3.12.4"
  }
 },
 "nbformat": 4,
 "nbformat_minor": 5
}
